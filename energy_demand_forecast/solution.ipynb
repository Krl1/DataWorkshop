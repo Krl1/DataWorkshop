{
 "cells": [
  {
   "cell_type": "code",
   "execution_count": 11,
   "id": "6f01f115",
   "metadata": {},
   "outputs": [],
   "source": [
    "import pandas as pd\n",
    "from sklearn.metrics import mean_absolute_error as mae\n",
    "from sklearn.ensemble import RandomForestRegressor, GradientBoostingRegressor, AdaBoostRegressor\n",
    "from sklearn.preprocessing import OneHotEncoder\n",
    "from sklearn.model_selection import KFold, RandomizedSearchCV\n",
    "from tqdm import tqdm\n",
    "import numpy as np\n",
    "import seaborn as sns\n",
    "import matplotlib.pyplot as plt\n",
    "from plotly.offline import iplot\n",
    "from scipy.stats import loguniform\n",
    "sns.set_style('whitegrid')\n",
    "pd.set_option('display.max_columns', None)\n",
    "pd.options.mode.chained_assignment = None"
   ]
  },
  {
   "cell_type": "code",
   "execution_count": 1,
   "id": "1b710b3d",
   "metadata": {},
   "outputs": [],
   "source": [
    "def feature_engineering(df):\n",
    "    df['hour'] = df.date.dt.hour\n",
    "    df['day'] = df.date.dt.day\n",
    "    df['dayofweek'] = df.date.dt.dayofweek\n",
    "    df['day_name'] = df.date.dt.day_name()\n",
    "    df['month'] = df.date.dt.month\n",
    "    df['month_name'] = df.date.dt.month_name()\n",
    "    df['quarter'] = df.date.dt.quarter\n",
    "    df['year'] = df.date.dt.year\n",
    "    df[\"weekofyear\"] = df.date.dt.weekofyear\n",
    "    df['is_month_start'] = df.date.dt.is_month_start.astype(float)\n",
    "    df['is_month_end'] = df.date.dt.is_month_end.astype(float)\n",
    "    df['is_year_start'] = df.date.dt.is_year_start.astype(float)\n",
    "    df['is_year_end'] = df.date.dt.is_year_end.astype(float)\n",
    "    return df"
   ]
  },
  {
   "cell_type": "code",
   "execution_count": 2,
   "id": "78f53866",
   "metadata": {},
   "outputs": [],
   "source": [
    "def make_shift(df):\n",
    "    df['lag_23'] = df['value'].shift(23)\n",
    "    df['lag_24'] = df['value'].shift(24)\n",
    "    df['lag_25'] = df['value'].shift(25)\n",
    "    df['lag_m23'] = df['value'].shift(-23)\n",
    "    df['lag_m24'] = df['value'].shift(-24)\n",
    "    df['lag_m25'] = df['value'].shift(-25)\n",
    "    return df"
   ]
  },
  {
   "cell_type": "code",
   "execution_count": 4,
   "id": "ca118662",
   "metadata": {},
   "outputs": [],
   "source": [
    "def make_ohe_lebels(df):\n",
    "    oneHotEncoder = OneHotEncoder()\n",
    "    X_ohe = oneHotEncoder.fit_transform(df_full[['dayofweek','month', 'year']])\n",
    "    \n",
    "    ohe_labels = list(df.day_name.unique()[4:]) \n",
    "    ohe_labels += list(df.day_name.unique()[:4])\n",
    "    ohe_labels += list(df.month_name.unique()[10:])  \n",
    "    ohe_labels += list(df.month_name.unique()[:10])\n",
    "    ohe_labels += list(df.year.unique().astype(np.str))\n",
    "    \n",
    "    return pd.DataFrame(X_ohe.toarray(), index=df_full.index, columns=ohe_labels)"
   ]
  },
  {
   "cell_type": "code",
   "execution_count": 7,
   "id": "f53edff7",
   "metadata": {},
   "outputs": [],
   "source": [
    "def train_full_and_predict(df_full, train_columns, model):\n",
    "    test_value_change = df_full.value.mean()\n",
    "    lag_value_change = df_full.value.mean()\n",
    "    \n",
    "    X_change = df_full.copy()\n",
    "    X_change = X_change.fillna(test_value_change)\n",
    "    X_change = make_shift(X_change)\n",
    "    X_change = X_change.fillna(lag_value_change)\n",
    "    \n",
    "    df_train = X_change.iloc[train_index]\n",
    "    df_test  = X_change.iloc[test_index]\n",
    "    \n",
    "    X_train = df_train[train_columns]\n",
    "    y_train = df_train[\"value\"]\n",
    "    X_test  = df_test[train_columns]\n",
    "    \n",
    "    model.fit(X_train, y_train)\n",
    "    print(mae(y_train, model.predict(X_train)))\n",
    "    \n",
    "    return model.predict(X_test)"
   ]
  },
  {
   "cell_type": "code",
   "execution_count": 8,
   "id": "d125b31f",
   "metadata": {},
   "outputs": [],
   "source": [
    "def test_model(model):\n",
    "    cv = KFold(n_splits=5, shuffle=True, random_state=0)\n",
    "    scores = []\n",
    "    X_train = df_full.iloc[train_index]\n",
    "    X_test = df_full.iloc[test_index]\n",
    "    start_day = np.where(np.arange(len(train_index))%24 == 0)[0]\n",
    "\n",
    "    for train_idx, test_idx in tqdm(cv.split(start_day)):\n",
    "\n",
    "        test_id = []\n",
    "        for start_h in start_day[test_idx]:\n",
    "            for i in range(24):\n",
    "                test_id.append(start_h+i)\n",
    "        if 26517 in test_id: test_id.remove(26517)\n",
    "        if 26518 in test_id: test_id.remove(26518)\n",
    "        if 26519 in test_id: test_id.remove(26519)\n",
    "\n",
    "        train_id = []\n",
    "        for start_h in start_day[train_idx]:\n",
    "            for i in range(24):\n",
    "                train_id.append(start_h+i)\n",
    "        if 26517 in train_id: train_id.remove(26517)\n",
    "        if 26518 in train_id: train_id.remove(26518)\n",
    "        if 26519 in train_id: train_id.remove(26519)\n",
    "\n",
    "        test_value_change = X_train.iloc[train_id].value.mean()\n",
    "        lag_value_change = X_train.iloc[train_id].value.mean()\n",
    "\n",
    "        X_change = X_train.copy()\n",
    "        y_train_tmp, y_test_tmp = X_change.iloc[train_id].value, X_change.iloc[test_id].value\n",
    "#         X_change.iloc[test_id, X_change.columns.get_loc('value')] = test_value_change\n",
    "        X_change = make_shift(X_change)\n",
    "        X_change = X_change.fillna(lag_value_change)\n",
    "        X_train_tmp, X_test_tmp = X_change.iloc[train_id][train_columns], X_change.iloc[test_id][train_columns]\n",
    "        \n",
    "        model.fit(X_train_tmp, y_train_tmp)\n",
    "        y_pred = model.predict(X_test_tmp)\n",
    "        score = mae(y_test_tmp, y_pred)\n",
    "        scores.append(score)\n",
    "\n",
    "    print(np.mean(scores), np.std(scores))"
   ]
  },
  {
   "cell_type": "code",
   "execution_count": 6,
   "id": "1fe3ae67",
   "metadata": {},
   "outputs": [],
   "source": [
    "train_columns = ['hour', \n",
    "                 'is_month_start',   'is_month_end',  \n",
    "                 'is_year_start', 'is_year_end',\n",
    "                 'weekofyear', \n",
    "                 'quarter',\n",
    "                 'Monday','Tuesday','Wednesday', 'Thursday','Friday','Saturday','Sunday',\n",
    "                 'January','February', 'March','April','May','June','July','August','September','October', 'November','December',\n",
    "                 '2018','2019','2020','2021','2022', \n",
    "                 'lag_23', 'lag_24', 'lag_25', \n",
    "                 'lag_m23', 'lag_m24', 'lag_m25'\n",
    "                ]"
   ]
  },
  {
   "cell_type": "markdown",
   "id": "46975f86",
   "metadata": {},
   "source": [
    "## First solution -> 457.86671"
   ]
  },
  {
   "cell_type": "code",
   "execution_count": null,
   "id": "ff73f544",
   "metadata": {},
   "outputs": [],
   "source": [
    "df_train = pd.read_hdf(\"../input/energy_train.h5\")\n",
    "df_test = pd.read_hdf(\"../input/energy_test.h5\")"
   ]
  },
  {
   "cell_type": "code",
   "execution_count": null,
   "id": "dbfcda98",
   "metadata": {},
   "outputs": [],
   "source": [
    "test_index = list(df_test.index)\n",
    "train_index = list(df_train.index)"
   ]
  },
  {
   "cell_type": "code",
   "execution_count": null,
   "id": "0dcb73c2",
   "metadata": {},
   "outputs": [],
   "source": [
    "df_full = pd.concat([df_train, df_test])\n",
    "df_full = df_full.sort_values(by=['id'])"
   ]
  },
  {
   "cell_type": "code",
   "execution_count": null,
   "id": "ba40ddaf",
   "metadata": {},
   "outputs": [],
   "source": [
    "df_full = feature_engineering(df_full)\n",
    "df_ohe = make_ohe_df(df_full)\n",
    "\n",
    "df_full = df_full.join(df_ohe)"
   ]
  },
  {
   "cell_type": "code",
   "execution_count": null,
   "id": "52a9739d",
   "metadata": {},
   "outputs": [],
   "source": [
    "model = RandomForestRegressor(max_depth=20, n_estimators=200, n_jobs = -1, random_state=42)\n",
    "y_test_pred = train_full_and_predict(df_full, train_columns, model)"
   ]
  },
  {
   "cell_type": "code",
   "execution_count": null,
   "id": "ce0a8dcc",
   "metadata": {},
   "outputs": [],
   "source": [
    "df_out = pd.DataFrame(data=y_test_pred, index=test_index, columns=['value'])\n",
    "df_out.index.name = 'id'\n",
    "df_out.to_csv(\"../output/rfr8.csv\")"
   ]
  },
  {
   "cell_type": "markdown",
   "id": "e1ed3c4a",
   "metadata": {},
   "source": [
    "## Final solution -> 373.35602"
   ]
  },
  {
   "cell_type": "code",
   "execution_count": null,
   "id": "bc3f9226",
   "metadata": {},
   "outputs": [],
   "source": [
    "df_train = pd.read_hdf(\"../input/energy_train.h5\")\n",
    "df_test = pd.read_hdf(\"../input/energy_test.h5\")"
   ]
  },
  {
   "cell_type": "markdown",
   "id": "bff592e1",
   "metadata": {},
   "source": [
    "### Rozszerzenie zbioru danych poprzednimi predykcjami"
   ]
  },
  {
   "cell_type": "code",
   "execution_count": null,
   "id": "335c47e9",
   "metadata": {},
   "outputs": [],
   "source": [
    "for i in range(8, 21):\n",
    "    df_train = pd.read_hdf(\"../input/energy_train.h5\")\n",
    "    df_test = pd.read_hdf(\"../input/energy_test.h5\")\n",
    "\n",
    "    df_test_y = pd.read_csv(f\"../output/rfr{i}.csv\").set_index('id')\n",
    "    df_test_y.index.name = None\n",
    "    df_test = df_test.join(df_test_y)\n",
    "\n",
    "    test_index = list(df_test.index)\n",
    "    train_index = list(df_train.index)\n",
    "\n",
    "    df_full = pd.concat([df_train, df_test])\n",
    "    df_full = df_full.sort_values(by=['id'])\n",
    "\n",
    "    df_full = feature_engineering(df_full)\n",
    "    df_ohe = make_ohe_df(df_full)\n",
    "\n",
    "    df_full = df_full.join(df_ohe)\n",
    "\n",
    "    model = RandomForestRegressor(max_depth=20, n_estimators=500, n_jobs = -1, random_state=42)\n",
    "    y_test_pred = train_full_and_predict(df_full, train_columns, model)\n",
    "\n",
    "    df_out = pd.DataFrame(data=y_test_pred, index=test_index, columns=['value'])\n",
    "    df_out.index.name = 'id'\n",
    "    df_out.to_csv(f\"../output/rfr{i+1}.csv\")"
   ]
  },
  {
   "attachments": {
    "image.png": {
     "image/png": "[encoded data removed]"
    }
   },
   "cell_type": "markdown",
   "id": "14014344",
   "metadata": {},
   "source": [
    "![image.png](attachment:image.png)"
   ]
  }
 ],
 "metadata": {
  "kernelspec": {
   "display_name": "Python 3 (ipykernel)",
   "language": "python",
   "name": "python3"
  },
  "language_info": {
   "codemirror_mode": {
    "name": "ipython",
    "version": 3
   },
   "file_extension": ".py",
   "mimetype": "text/x-python",
   "name": "python",
   "nbconvert_exporter": "python",
   "pygments_lexer": "ipython3",
   "version": "3.9.7"
  }
 },
 "nbformat": 4,
 "nbformat_minor": 5
}
